{
 "cells": [
  {
   "cell_type": "code",
   "execution_count": 1,
   "metadata": {
    "collapsed": false
   },
   "outputs": [],
   "source": [
    "import numpy as np\n",
    "import time\n",
    "import matplotlib.pyplot as plt"
   ]
  },
  {
   "cell_type": "markdown",
   "metadata": {},
   "source": [
    "# Data"
   ]
  },
  {
   "cell_type": "code",
   "execution_count": 11,
   "metadata": {
    "collapsed": false
   },
   "outputs": [
    {
     "name": "stdout",
     "output_type": "stream",
     "text": [
      "(1000, 20)\n"
     ]
    }
   ],
   "source": [
    "#SVM, real data\n",
    "#Pas cst\n",
    "\n",
    "def load_diabetic_retinopathy(filename, minidata=False):\n",
    "    \"\"\"\n",
    "    Cette fonction lit le fichier filename, par exemple\n",
    "    filename = 'diabeticRetinopathy.csv'\n",
    "    Elle retourne \n",
    "    X : une matrice de caracteristiques\n",
    "    y : un vecteur des classes tel que si y[i] = 1, la tumeur est maligne\n",
    "        et si y[i] = -1, la tumeur est benigne\n",
    "\n",
    "    Pour plus d'infos sur la base de donnees,\n",
    "    http://archive.ics.uci.edu/ml/datasets/Diabetic+Retinopathy+Debrecen+Data+Set\n",
    "    \"\"\"\n",
    "\n",
    "    data = np.loadtxt(filename, delimiter=',')\n",
    "\n",
    "    y = data[:, -1] * 2 - 1\n",
    "    X = data[:, :-1]\n",
    "\n",
    "    # Standardisation de la matrice\n",
    "    X = X - np.mean(X, axis=0)\n",
    "    X = X / np.std(X, axis=0)\n",
    "\n",
    "    return X, y\n",
    "\n",
    "X, y = load_diabetic_retinopathy('diabeticRetinopathy.csv', minidata=False)\n",
    "N = X.shape[0]\n",
    "d = X.shape[1]\n",
    "X = np.concatenate((X, np.ones((N,1))), axis=1)\n",
    "N = X.shape[0]\n",
    "d = X.shape[1]\n",
    "X = X[0:1000,:]\n",
    "N = X.shape[0]\n",
    "d = X.shape[1]\n",
    "print (N,d)"
   ]
  },
  {
   "cell_type": "code",
   "execution_count": 21,
   "metadata": {
    "collapsed": false
   },
   "outputs": [],
   "source": [
    "g = 9\n",
    "\n",
    "Groups = np.zeros((9,200))\n",
    "for i in range(9):\n",
    "    Groups[i] = list(xrange(i*100,i*100 + 200))\n",
    "Groups = Groups.astype(int)    "
   ]
  },
  {
   "cell_type": "code",
   "execution_count": 22,
   "metadata": {
    "collapsed": false
   },
   "outputs": [
    {
     "data": {
      "text/plain": [
       "(9, 200)"
      ]
     },
     "execution_count": 22,
     "metadata": {},
     "output_type": "execute_result"
    }
   ],
   "source": [
    "Groups.shape"
   ]
  },
  {
   "cell_type": "code",
   "execution_count": 28,
   "metadata": {
    "collapsed": false
   },
   "outputs": [
    {
     "data": {
      "text/plain": [
       "(1000,)"
      ]
     },
     "execution_count": 28,
     "metadata": {},
     "output_type": "execute_result"
    }
   ],
   "source": [
    "def H(z, y, X):\n",
    "    return 1 / float(N) * sum([max(0,1-y[j]*np.dot(z,X[j])) for j in range(N)])\n",
    "\n",
    "def G(z):\n",
    "    return sum([np.linalg.norm(z[Groups[j]]) for j in range(Groups.shape[0])])\n",
    "\n",
    "def F(z, y, X, lambd = 1.0):\n",
    "    return H(z, y, X) + lambd * G(z)\n",
    "\n",
    "def P(x, pas = 1):\n",
    "    return min(x + pas,max(x,1))\n",
    "\n",
    "def Q(x, pas = 1):\n",
    "    alpha = max(0, 1 - pas/np.linalg.norm(x))\n",
    "    return alpha*x\n",
    "\n",
    "def projomega(Y, pas = 1.0):\n",
    "    (a,b) = Y.shape\n",
    "    Z = np.zeros((a,b))\n",
    "    for j in range(b):\n",
    "        for i in Groups[j,:]:\n",
    "            Z[i,j] = Y[i,j]\n",
    "    for j in range(b):\n",
    "        norm = np.linalg.norm(Z[:,j])\n",
    "        if norm > pas:\n",
    "            Z[:,j] = Z[:,j]*pas/norm\n",
    "    return Z\n",
    "\n",
    "def proxolp(u, N, g, it = 10, pas = 1.0): \n",
    "    Y = np.zeros((N,g))\n",
    "    Xn = np.copy(Y)\n",
    "    e = np.ones(g)\n",
    "    for n in range(it):\n",
    "        Z = Y + 1/(2*float(g))*np.outer(np.maximum(0,u-np.dot(Y,e)),e)\n",
    "        X = projomega(Z, pas)\n",
    "        Y = X + (n/float(n+3))*(X - Xn)\n",
    "        Xn = X\n",
    "    return np.maximum(0,u-np.dot(Y,e))\n",
    "\n",
    "u = np.random.randn(N)\n",
    "proxolp(u, N, g, it = 10).shape"
   ]
  },
  {
   "cell_type": "code",
   "execution_count": 30,
   "metadata": {
    "collapsed": false
   },
   "outputs": [
    {
     "ename": "IndexError",
     "evalue": "index 200 is out of bounds for axis 1 with size 20",
     "output_type": "error",
     "traceback": [
      "\u001b[0;31m---------------------------------------------------------------------------\u001b[0m",
      "\u001b[0;31mIndexError\u001b[0m                                Traceback (most recent call last)",
      "\u001b[0;32m<ipython-input-30-cee4d17148c5>\u001b[0m in \u001b[0;36m<module>\u001b[0;34m()\u001b[0m\n\u001b[1;32m      7\u001b[0m \u001b[0mlambd\u001b[0m \u001b[0;34m=\u001b[0m \u001b[0;36m1.0\u001b[0m\u001b[0;34m\u001b[0m\u001b[0m\n\u001b[1;32m      8\u001b[0m \u001b[0;34m\u001b[0m\u001b[0m\n\u001b[0;32m----> 9\u001b[0;31m \u001b[0mnp\u001b[0m\u001b[0;34m.\u001b[0m\u001b[0mlinalg\u001b[0m\u001b[0;34m.\u001b[0m\u001b[0mnorm\u001b[0m\u001b[0;34m(\u001b[0m\u001b[0mz0\u001b[0m\u001b[0;34m[\u001b[0m\u001b[0mGroups\u001b[0m\u001b[0;34m[\u001b[0m\u001b[0;36m2\u001b[0m\u001b[0;34m]\u001b[0m\u001b[0;34m]\u001b[0m\u001b[0;34m)\u001b[0m\u001b[0;34m\u001b[0m\u001b[0m\n\u001b[0m\u001b[1;32m     10\u001b[0m \u001b[0;31m#F(z0, y, X, lambd)\u001b[0m\u001b[0;34m\u001b[0m\u001b[0;34m\u001b[0m\u001b[0m\n",
      "\u001b[0;31mIndexError\u001b[0m: index 200 is out of bounds for axis 1 with size 20"
     ]
    }
   ],
   "source": [
    "z0 = 5.0 * np.random.randn(d)\n",
    "\n",
    "r = 3.0\n",
    "size = 200\n",
    "many_random_sample = 10\n",
    "subsample = 1\n",
    "lambd = 1.0\n",
    "\n",
    "np.linalg.norm(z0[Groups[2]])\n",
    "#F(z0, y, X, lambd)"
   ]
  },
  {
   "cell_type": "code",
   "execution_count": 185,
   "metadata": {
    "collapsed": true
   },
   "outputs": [],
   "source": [
    "#On veut calculer le prox du group lasso de groupe Groups\n",
    "lgr = 100\n",
    "\n",
    "\n",
    "feature = np.random.randn(N*lgr)\n",
    "feature = np.reshape(feature,(N,lgr))\n",
    "label = np.random.choice([-1,1],lgr)\n",
    "\n",
    "def f(x,lgr):\n",
    "    a = sum([V(label[i] * np.dot(x,feature[:,i])) for i in range(lgr)])\n",
    "    b = sum([norm2g(x,Groups[i,:]) for i in range(99)])\n",
    "    return a+b\n",
    "    \n",
    "\n",
    "x_0 = np.random.randn(N)"
   ]
  },
  {
   "cell_type": "code",
   "execution_count": 239,
   "metadata": {
    "collapsed": false
   },
   "outputs": [
    {
     "name": "stdout",
     "output_type": "stream",
     "text": [
      "[ 0.01043397 -0.00108909 -0.00376386 ..., -0.01362268  0.02380409\n",
      "  0.01310346]\n"
     ]
    }
   ],
   "source": [
    "#Stodr\n",
    "\n",
    "gamma = 0.1\n",
    "\n",
    "x = np.copy(x_0)\n",
    "\n",
    "Result = [f(x,lgr)]\n",
    "Time = [0]\n",
    "\n",
    "t = 0\n",
    "for k in range(200):\n",
    "    while t < 0.02 :\n",
    "        i = np.random.randint(lgr)\n",
    "        phi = label[i]*feature[:,i]\n",
    "        tip = time.time()\n",
    "        phix = np.dot(phi, x)\n",
    "        y = x - (phix - P(phix, gamma))/(np.linalg.norm(x)*np.linalg.norm(x))*phi\n",
    "        j = np.random.randint(99)\n",
    "        z = Q(2*y - x, Groups[j:][0], gamma)\n",
    "        x = x + z - y\n",
    "        top = time.time()\n",
    "        t += top - tip\n",
    "    #print (k)\n",
    "    Result +=[f(x,lgr)]\n",
    "    Time += [t + Time[-1]]\n",
    "    t = 0\n",
    "\n",
    "Time[-1]\n",
    "print (x)\n",
    "x1 = x"
   ]
  },
  {
   "cell_type": "code",
   "execution_count": 205,
   "metadata": {
    "collapsed": false
   },
   "outputs": [
    {
     "data": {
      "text/plain": [
       "100"
      ]
     },
     "execution_count": 205,
     "metadata": {},
     "output_type": "execute_result"
    }
   ],
   "source": [
    "lgr"
   ]
  },
  {
   "cell_type": "code",
   "execution_count": 240,
   "metadata": {
    "collapsed": false
   },
   "outputs": [
    {
     "name": "stdout",
     "output_type": "stream",
     "text": [
      "[ 0.01861134  0.01828995  0.16850166 ...,  0.06009859  0.0383093\n",
      "  0.20733758]\n"
     ]
    }
   ],
   "source": [
    "#FoG-Lasso    \n",
    "\n",
    "gamma1 = 0.1\n",
    "x = np.copy(x_0)\n",
    "\n",
    "Result_FoG = [f(x,lgr)]\n",
    "Time_FoG = [0]\n",
    "\n",
    "for i in range(20):\n",
    "    phi = label[i]*feature[:,i]\n",
    "    tip = time.time()\n",
    "    phix = np.dot(phi, x)\n",
    "    y = x - (phix - P(phix, gamma1))/(np.linalg.norm(x)*np.linalg.norm(x))*phi\n",
    "    z = proxolp(2*y - x, N, 99, 10)\n",
    "    x = x + z - y\n",
    "    top = time.time()\n",
    "    Result_FoG +=[f(x,lgr)]\n",
    "    Time_FoG += [(top - tip) + Time_FoG[-1]]\n",
    "    \n",
    "print (x)"
   ]
  },
  {
   "cell_type": "code",
   "execution_count": 233,
   "metadata": {
    "collapsed": false
   },
   "outputs": [
    {
     "data": {
      "text/plain": [
       "(33.420927796999756, 418.25451081810087)"
      ]
     },
     "execution_count": 233,
     "metadata": {},
     "output_type": "execute_result"
    }
   ],
   "source": [
    "Result[-1], Result_FoG[-1]"
   ]
  },
  {
   "cell_type": "code",
   "execution_count": 242,
   "metadata": {
    "collapsed": false
   },
   "outputs": [
    {
     "data": {
      "image/png": "[encoded data removed]",
      "text/plain": [
       "<matplotlib.figure.Figure at 0x7f027844c438>"
      ]
     },
     "metadata": {},
     "output_type": "display_data"
    }
   ],
   "source": [
    "%matplotlib inline\n",
    "\n",
    "dr = plt.plot(Time,Result,drawstyle='steps-post',marker = 's',label='Stochastic D-R')\n",
    "fog = plt.plot(Time_FoG,Result_FoG,drawstyle='steps-post',marker = 'v',label='Partially stochastic D-R')\n",
    "\n",
    "plt.xlabel('time (s)')\n",
    "plt.ylabel('hinge loss + overlapping group lasso')\n",
    "plt.title('The Objective as a function of Time')\n",
    "legend = plt.legend(loc = 0, shadow = True, fontsize = 'x-large')\n",
    "legend.get_frame().set_facecolor('#efe2c1')\n",
    "#plt.axis([0, 75, 1000, 4500])\n",
    "#plt.xscale('log')\n",
    "plt.grid()\n",
    "plt.savefig('stodr-6.png')\n",
    "plt.show()\n"
   ]
  }
 ],
 "metadata": {
  "anaconda-cloud": {},
  "kernelspec": {
   "display_name": "Python [conda root]",
   "language": "python",
   "name": "conda-root-py"
  },
  "language_info": {
   "codemirror_mode": {
    "name": "ipython",
    "version": 2
   },
   "file_extension": ".py",
   "mimetype": "text/x-python",
   "name": "python",
   "nbconvert_exporter": "python",
   "pygments_lexer": "ipython2",
   "version": "2.7.12"
  }
 },
 "nbformat": 4,
 "nbformat_minor": 2
}
